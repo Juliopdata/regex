{
 "cells": [
  {
   "cell_type": "markdown",
   "metadata": {},
   "source": [
    "# Regular expresions (RegEx)"
   ]
  },
  {
   "cell_type": "markdown",
   "metadata": {},
   "source": [
    "- Online regex tester: https://regex101.com\n",
    "- w3schools: https://www.w3schools.com/python/python_regex.asp\n",
    "- re module documentation: https://docs.python.org/3/library/re.html"
   ]
  },
  {
   "cell_type": "markdown",
   "metadata": {},
   "source": [
    "### Sintaxis"
   ]
  },
  {
   "cell_type": "markdown",
   "metadata": {},
   "source": [
    "- **Literals** `a` \n",
    "- **Alternation** `a|b`\n",
    "- **Character sets** `[ab]`, `[^ab]`\n",
    "- **Wildcards** `.`\n",
    "- **Escape special characters** `\\` (?,*,+,^,&)\n",
    "- **Ranges** `[a-d]`, `[1-9]`\n",
    "- **Character classes** `\\w`, `\\d`, `\\s`, `\\n`, `\\W`, `\\D`, `\\S`\n",
    "- **Quantifiers** `{2}`, `{2,}`, `{2,4}`, `?`, `*`, `+`\n",
    "- **Grouping** `()`\n",
    "- **Anchors** `^`, `$`"
   ]
  },
  {
   "cell_type": "markdown",
   "metadata": {},
   "source": [
    "### Methods"
   ]
  },
  {
   "cell_type": "markdown",
   "metadata": {},
   "source": [
    "- **re.findall()**\n",
    "- **re.sub()**\n",
    "- **re.search()**\n",
    "- **re.match()**\n",
    "- **re.split()**"
   ]
  },
  {
   "cell_type": "code",
   "execution_count": 1,
   "metadata": {},
   "outputs": [],
   "source": [
    "import re"
   ]
  },
  {
   "cell_type": "code",
   "execution_count": 2,
   "metadata": {},
   "outputs": [],
   "source": [
    "text = \"Pepe, Pepa and Luis are 22, 34, and 56 years old, respectively?\""
   ]
  },
  {
   "cell_type": "code",
   "execution_count": 3,
   "metadata": {},
   "outputs": [
    {
     "name": "stdout",
     "output_type": "stream",
     "text": [
      "Pepe, Pepa and Lola are 22, 34, and 56 years old, respectively?\n"
     ]
    }
   ],
   "source": [
    "# literals\n",
    "# re.sub\n",
    "text1 = re.sub(\"Luis\", \"Lola\", text)\n",
    "print(text1)"
   ]
  },
  {
   "cell_type": "code",
   "execution_count": 4,
   "metadata": {},
   "outputs": [
    {
     "name": "stdout",
     "output_type": "stream",
     "text": [
      "Pepe, Pepa and Luis are 40, 40, and 56 years old, respectively?\n"
     ]
    }
   ],
   "source": [
    "# alternation\n",
    "\n",
    "text2 = re.sub(\"22|34\", \"40\" , text)\n",
    "print(text2)"
   ]
  },
  {
   "cell_type": "code",
   "execution_count": 9,
   "metadata": {},
   "outputs": [
    {
     "name": "stdout",
     "output_type": "stream",
     "text": [
      "Pepe, Pepa and Luis are 55, 55, and 56 years old, respectively?\n"
     ]
    }
   ],
   "source": [
    "# character sets\n",
    "text3 = re.sub(\"[234]\", \"5\", text)\n",
    "print(text3)"
   ]
  },
  {
   "cell_type": "code",
   "execution_count": 10,
   "metadata": {},
   "outputs": [
    {
     "name": "stdout",
     "output_type": "stream",
     "text": [
      "Felipe, Felipe and Luis are 22, 34, and 56 years old, respectively?\n"
     ]
    }
   ],
   "source": [
    "# wildcards\n",
    "text4 = re.sub(\"Pep.\", \"Felipe\", text)\n",
    "print(text4)"
   ]
  },
  {
   "cell_type": "code",
   "execution_count": 12,
   "metadata": {},
   "outputs": [
    {
     "name": "stdout",
     "output_type": "stream",
     "text": [
      "Pepe, Pepa and Luis are 22, 34, and 56 years old, respectively!\n"
     ]
    }
   ],
   "source": [
    "# escape special characters\n",
    "text5 = re.sub(\"\\?\", \"!\", text)\n",
    "print(text5)"
   ]
  },
  {
   "cell_type": "code",
   "execution_count": 18,
   "metadata": {},
   "outputs": [
    {
     "name": "stdout",
     "output_type": "stream",
     "text": [
      "['p', 'p', 'a', 'a', 'n', 'd', 'u', 'i', 's', 'a', 'r', 'a', 'n', 'd', 'y', 'a', 'r', 's', 'o', 'l', 'd', 'r', 's', 'p', 'c', 't', 'i', 'v', 'l', 'y']\n",
      "['P', 'P', 'L']\n",
      "['2', '2', '3', '4', '5', '6']\n"
     ]
    }
   ],
   "source": [
    "# ranges\n",
    "# re.findall\n",
    "print(re.findall(\"[a-df-z]\", text))\n",
    "print(re.findall(\"[A-Z]\", text))\n",
    "print(re.findall(\"[0-9]\", text))"
   ]
  },
  {
   "cell_type": "code",
   "execution_count": 28,
   "metadata": {},
   "outputs": [
    {
     "name": "stdout",
     "output_type": "stream",
     "text": [
      "['Pepe', 'Pepa', 'and', 'Luis', 'are', '22', '34', 'and', '56', 'years', 'old', 'respectively']\n"
     ]
    }
   ],
   "source": [
    "# character classes\n",
    "print(re.findall(\"\\w+\", text))"
   ]
  },
  {
   "cell_type": "code",
   "execution_count": 38,
   "metadata": {},
   "outputs": [
    {
     "name": "stdout",
     "output_type": "stream",
     "text": [
      "['a', 'a', 'a', 'a', 'a', 'a', 'a', 'a', 'a', 'a', 'a', 'a', 'a', 'a', 'a', 'a', 'a', 'a']\n",
      "['aa', 'aa', 'aa', 'aa', 'aa', 'aa', 'aa']\n",
      "['aa', 'aa', 'aaa', 'aaaa', 'aaaaa']\n",
      "['', 'aa', '', '', 'a', '', '', '', 'a', '', 'aa', '', 'aaa', '', 'aaaa', '', 'aaaaa', '']\n",
      "['aa', 'a', 'a', 'aa', 'aaa', 'aaaa', 'aaaaa']\n",
      "['baa', 'ba']\n",
      "['', 'a', 'a', '', '', 'a', '', '', '', 'a', '', 'a', 'a', '', 'a', 'a', 'a', '', 'a', 'a', 'a', 'a', '', 'a', 'a', 'a', 'a', 'a', '']\n"
     ]
    }
   ],
   "source": [
    "# quantifiers\n",
    "text = \"baa ba b a aa aaa aaaa aaaaa\"\n",
    "print(re.findall(\"a\", text))\n",
    "print(re.findall(\"a{2}\", text))\n",
    "print(re.findall(\"a{2,}\", text))\n",
    "print(re.findall(\"a*\", text))\n",
    "print(re.findall(\"a+\", text))\n",
    "print(re.findall(\"ba+\", text))\n",
    "print(re.findall(\"a?\", text))"
   ]
  },
  {
   "cell_type": "code",
   "execution_count": 60,
   "metadata": {},
   "outputs": [
    {
     "name": "stdout",
     "output_type": "stream",
     "text": [
      "<re.Match object; span=(0, 10), match='abctrc abc'>\n"
     ]
    }
   ],
   "source": [
    "# grouping\n",
    "# re.search\n",
    "text = \"abctrc abc\"\n",
    "\n",
    "print(re.search(\"([a-z]{2}c){2}\\sabc\", text))\n"
   ]
  },
  {
   "cell_type": "code",
   "execution_count": 64,
   "metadata": {},
   "outputs": [
    {
     "name": "stdout",
     "output_type": "stream",
     "text": [
      "<re.Match object; span=(0, 8), match='Ironhack'>\n",
      "None\n",
      "None\n",
      "<re.Match object; span=(19, 27), match='Ironhack'>\n"
     ]
    }
   ],
   "source": [
    "# anchors\n",
    "text = \"Ironhack is the best school\"\n",
    "inverse = \"The best school is Ironhack\"\n",
    "\n",
    "print(re.search(\"^Ironhack\", text))\n",
    "print(re.search(\"^Ironhack\", inverse))\n",
    "print(re.search(\"Ironhack$\", text))\n",
    "print(re.search(\"Ironhack$\", inverse))"
   ]
  },
  {
   "cell_type": "code",
   "execution_count": 48,
   "metadata": {},
   "outputs": [
    {
     "name": "stdout",
     "output_type": "stream",
     "text": [
      "encontrado!\n",
      "<re.Match object; span=(3, 4), match='a'>\n",
      "<re.Match object; span=(0, 1), match='a'>\n"
     ]
    }
   ],
   "source": [
    "# re.search\n",
    "# re.match\n",
    "if re.search(\"a\", \"hola\"):\n",
    "    print(\"encontrado!\")\n",
    "\n",
    "print(re.search(\"a\", \"hola\"))\n",
    "print(re.match(\"a\", \"a\"))"
   ]
  },
  {
   "cell_type": "code",
   "execution_count": 69,
   "metadata": {
    "scrolled": true
   },
   "outputs": [
    {
     "name": "stdout",
     "output_type": "stream",
     "text": [
      "['Pepe, Pepa and Luis are ', ', ', ', and ', ' years old, respectively?']\n"
     ]
    }
   ],
   "source": [
    "# re.split\n",
    "text = \"Pepe, Pepa and Luis are 22, 34, and 56 years old, respectively?\"\n",
    "print(re.split(\"\\d\\d\", text))"
   ]
  },
  {
   "cell_type": "markdown",
   "metadata": {},
   "source": [
    "### Let's practice"
   ]
  },
  {
   "cell_type": "markdown",
   "metadata": {},
   "source": [
    "You work for a very big company and you are assigned the task of verifying information from the 200 most important clients in Europe for a meeting with the board of directors in an hour. Execute the code below to see your dataframe."
   ]
  },
  {
   "cell_type": "code",
   "execution_count": null,
   "metadata": {},
   "outputs": [],
   "source": [
    "# loading dataframe\n",
    "import pandas as pd\n",
    "a = pd.read_csv('db.csv')\n",
    "display(a)"
   ]
  },
  {
   "cell_type": "markdown",
   "metadata": {},
   "source": [
    "Oh no! It seems that one of the interns has messed up the `.csv` file, there is no backup, and you are to blame. In order to keep your job, you must find a way to restore the original data. But wait! There is no time to go through all the data manually. Good thing you know how to use `regular expressions`."
   ]
  },
  {
   "cell_type": "markdown",
   "metadata": {},
   "source": [
    "First of all, lets import the `regex` library and load our text file to a variable.\n",
    "This is the data we must retrieve back:\n",
    "- name\n",
    "- phone\n",
    "- email\n",
    "- date\n",
    "- contract_value\n",
    "- creditcard\n",
    "- country\n",
    "- postalcode\n",
    "- address"
   ]
  },
  {
   "cell_type": "code",
   "execution_count": null,
   "metadata": {},
   "outputs": [],
   "source": [
    "import re"
   ]
  },
  {
   "cell_type": "code",
   "execution_count": null,
   "metadata": {},
   "outputs": [],
   "source": [
    "with open('db.csv') as file:\n",
    "    db = file.read()\n",
    "print(db)"
   ]
  },
  {
   "cell_type": "code",
   "execution_count": null,
   "metadata": {},
   "outputs": [],
   "source": [
    "#name\n"
   ]
  },
  {
   "cell_type": "code",
   "execution_count": null,
   "metadata": {},
   "outputs": [],
   "source": [
    "#phone\n"
   ]
  },
  {
   "cell_type": "code",
   "execution_count": null,
   "metadata": {},
   "outputs": [],
   "source": [
    "#email\n"
   ]
  },
  {
   "cell_type": "code",
   "execution_count": null,
   "metadata": {},
   "outputs": [],
   "source": [
    "#date\n"
   ]
  },
  {
   "cell_type": "code",
   "execution_count": null,
   "metadata": {
    "scrolled": true
   },
   "outputs": [],
   "source": [
    "#contract_value\n"
   ]
  },
  {
   "cell_type": "code",
   "execution_count": null,
   "metadata": {},
   "outputs": [],
   "source": [
    "#creditcard\n"
   ]
  },
  {
   "cell_type": "code",
   "execution_count": null,
   "metadata": {},
   "outputs": [],
   "source": [
    "#country\n"
   ]
  },
  {
   "cell_type": "code",
   "execution_count": null,
   "metadata": {},
   "outputs": [],
   "source": [
    "#postal code\n"
   ]
  }
 ],
 "metadata": {
  "kernelspec": {
   "display_name": "Python 3",
   "language": "python",
   "name": "python3"
  },
  "language_info": {
   "codemirror_mode": {
    "name": "ipython",
    "version": 3
   },
   "file_extension": ".py",
   "mimetype": "text/x-python",
   "name": "python",
   "nbconvert_exporter": "python",
   "pygments_lexer": "ipython3",
   "version": "3.7.4"
  }
 },
 "nbformat": 4,
 "nbformat_minor": 2
}
